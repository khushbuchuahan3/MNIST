{
  "nbformat": 4,
  "nbformat_minor": 0,
  "metadata": {
    "colab": {
      "name": "Alexnet for CIFAR10.ipynb",
      "provenance": [],
      "authorship_tag": "ABX9TyPg/YFa7ZByIo3q58T4I7p9",
      "include_colab_link": true
    },
    "kernelspec": {
      "name": "python3",
      "display_name": "Python 3"
    },
    "language_info": {
      "name": "python"
    },
    "accelerator": "GPU"
  },
  "cells": [
    {
      "cell_type": "markdown",
      "metadata": {
        "id": "view-in-github",
        "colab_type": "text"
      },
      "source": [
        "<a href=\"https://colab.research.google.com/github/khushbuchuahan3/MNIST/blob/main/Alexnet_for_CIFAR10.ipynb\" target=\"_parent\"><img src=\"https://colab.research.google.com/assets/colab-badge.svg\" alt=\"Open In Colab\"/></a>"
      ]
    },
    {
      "cell_type": "code",
      "execution_count": 1,
      "metadata": {
        "colab": {
          "base_uri": "https://localhost:8080/"
        },
        "id": "5D8LK25nkF5d",
        "outputId": "dcb46c04-71ae-42a2-d4ac-ebdbefec5f39"
      },
      "outputs": [
        {
          "output_type": "stream",
          "name": "stdout",
          "text": [
            "Downloading data from https://www.cs.toronto.edu/~kriz/cifar-10-python.tar.gz\n",
            "170500096/170498071 [==============================] - 11s 0us/step\n",
            "170508288/170498071 [==============================] - 11s 0us/step\n"
          ]
        }
      ],
      "source": [
        "import tensorflow as tf\n",
        "from keras.layers import Flatten,Dense,Conv2D,MaxPooling2D\n",
        "from keras.models import Sequential\n",
        "(x_train,y_train),(x_test,y_test)=tf.keras.datasets.cifar10.load_data()\n"
      ]
    },
    {
      "cell_type": "code",
      "source": [
        "x_train.shape,y_trin.shape"
      ],
      "metadata": {
        "colab": {
          "base_uri": "https://localhost:8080/"
        },
        "id": "HUt6kU2rl0eB",
        "outputId": "6ce55e25-4f9a-46ed-c989-70e9d8204202"
      },
      "execution_count": 2,
      "outputs": [
        {
          "output_type": "execute_result",
          "data": {
            "text/plain": [
              "(50000, 32, 32, 3)"
            ]
          },
          "metadata": {},
          "execution_count": 2
        }
      ]
    },
    {
      "cell_type": "code",
      "source": [
        "model=Sequential()\n",
        "model.add(Conv2D(input_shape=(32,32,3),filters=96,kernel_size=(11,11),strides=4,padding='same',activation='relu'))\n",
        "model.add(MaxPooling2D(pool_size=(3,3),strides=2))\n",
        "model.add(Conv2D(filters=256,kernel_size=(5,5),activation='relu',strides=1,padding='same'))\n",
        "model.add(MaxPooling2D(pool_size=(3,3),strides=2))\n",
        "model.add(Conv2D(filters=384,activation='relu',kernel_size=(3,3),strides=1,padding='same'))\n",
        "model.add(Conv2D(filters=384,activation='relu',kernel_size=(3,3),strides=1,padding='same'))\n",
        "model.add(Conv2D(filters=256,activation='relu',kernel_size=(3,3),strides=1,padding='same'))\n",
        "model.add(MaxPooling2D(pool_size=(1,1),strides=2))\n",
        "\n",
        "model.add(Flatten())\n",
        "model.add(Dense(units=4096,activation='relu'))\n",
        "model.add(Dense(units=4096,activation='relu'))\n",
        "model.add(Dense(units=10,activation='softmax'))\n",
        "\n",
        "model.summary()"
      ],
      "metadata": {
        "colab": {
          "base_uri": "https://localhost:8080/"
        },
        "id": "czx4dfANl3QV",
        "outputId": "d7b50434-9379-42fc-c7f7-35bfe3bbf85d"
      },
      "execution_count": 6,
      "outputs": [
        {
          "output_type": "stream",
          "name": "stdout",
          "text": [
            "Model: \"sequential_3\"\n",
            "_________________________________________________________________\n",
            " Layer (type)                Output Shape              Param #   \n",
            "=================================================================\n",
            " conv2d_12 (Conv2D)          (None, 8, 8, 96)          34944     \n",
            "                                                                 \n",
            " max_pooling2d_8 (MaxPooling  (None, 3, 3, 96)         0         \n",
            " 2D)                                                             \n",
            "                                                                 \n",
            " conv2d_13 (Conv2D)          (None, 3, 3, 256)         614656    \n",
            "                                                                 \n",
            " max_pooling2d_9 (MaxPooling  (None, 1, 1, 256)        0         \n",
            " 2D)                                                             \n",
            "                                                                 \n",
            " conv2d_14 (Conv2D)          (None, 1, 1, 384)         885120    \n",
            "                                                                 \n",
            " conv2d_15 (Conv2D)          (None, 1, 1, 384)         1327488   \n",
            "                                                                 \n",
            " conv2d_16 (Conv2D)          (None, 1, 1, 256)         884992    \n",
            "                                                                 \n",
            " max_pooling2d_10 (MaxPoolin  (None, 1, 1, 256)        0         \n",
            " g2D)                                                            \n",
            "                                                                 \n",
            " flatten (Flatten)           (None, 256)               0         \n",
            "                                                                 \n",
            " dense (Dense)               (None, 4096)              1052672   \n",
            "                                                                 \n",
            " dense_1 (Dense)             (None, 4096)              16781312  \n",
            "                                                                 \n",
            " dense_2 (Dense)             (None, 10)                40970     \n",
            "                                                                 \n",
            "=================================================================\n",
            "Total params: 21,622,154\n",
            "Trainable params: 21,622,154\n",
            "Non-trainable params: 0\n",
            "_________________________________________________________________\n"
          ]
        }
      ]
    },
    {
      "cell_type": "code",
      "source": [
        "model.compile(optimizer='adam', loss='sparse_categorical_crossentropy',metrics='sparse_categorical_accuracy')"
      ],
      "metadata": {
        "id": "IDUEuIA9mAu3"
      },
      "execution_count": 15,
      "outputs": []
    },
    {
      "cell_type": "code",
      "source": [
        "model1=model.fit(x=x_train,y=y_train,batch_size=32,epochs=10,verbose=2,validation_data=(x_test,y_test)  )"
      ],
      "metadata": {
        "colab": {
          "base_uri": "https://localhost:8080/"
        },
        "id": "CcVIQSXzmTJh",
        "outputId": "20265ff6-1bbc-4725-dd94-9f15451f40c0"
      },
      "execution_count": 16,
      "outputs": [
        {
          "output_type": "stream",
          "name": "stdout",
          "text": [
            "Epoch 1/10\n",
            "1563/1563 - 19s - loss: 1.5487 - sparse_categorical_accuracy: 0.4519 - val_loss: 1.5854 - val_sparse_categorical_accuracy: 0.4438 - 19s/epoch - 12ms/step\n",
            "Epoch 2/10\n",
            "1563/1563 - 17s - loss: 1.3666 - sparse_categorical_accuracy: 0.5265 - val_loss: 1.4108 - val_sparse_categorical_accuracy: 0.5098 - 17s/epoch - 11ms/step\n",
            "Epoch 3/10\n",
            "1563/1563 - 17s - loss: 1.2591 - sparse_categorical_accuracy: 0.5651 - val_loss: 1.2559 - val_sparse_categorical_accuracy: 0.5676 - 17s/epoch - 11ms/step\n",
            "Epoch 4/10\n",
            "1563/1563 - 16s - loss: 1.1816 - sparse_categorical_accuracy: 0.5942 - val_loss: 1.2881 - val_sparse_categorical_accuracy: 0.5764 - 16s/epoch - 11ms/step\n",
            "Epoch 5/10\n",
            "1563/1563 - 16s - loss: 1.1295 - sparse_categorical_accuracy: 0.6128 - val_loss: 1.2538 - val_sparse_categorical_accuracy: 0.5708 - 16s/epoch - 10ms/step\n",
            "Epoch 6/10\n",
            "1563/1563 - 16s - loss: 1.0612 - sparse_categorical_accuracy: 0.6377 - val_loss: 1.1956 - val_sparse_categorical_accuracy: 0.5971 - 16s/epoch - 11ms/step\n",
            "Epoch 7/10\n",
            "1563/1563 - 16s - loss: 1.0187 - sparse_categorical_accuracy: 0.6522 - val_loss: 1.2578 - val_sparse_categorical_accuracy: 0.5844 - 16s/epoch - 10ms/step\n",
            "Epoch 8/10\n",
            "1563/1563 - 16s - loss: 0.9699 - sparse_categorical_accuracy: 0.6687 - val_loss: 1.1827 - val_sparse_categorical_accuracy: 0.6032 - 16s/epoch - 10ms/step\n",
            "Epoch 9/10\n",
            "1563/1563 - 16s - loss: 0.9142 - sparse_categorical_accuracy: 0.6905 - val_loss: 1.1747 - val_sparse_categorical_accuracy: 0.6150 - 16s/epoch - 11ms/step\n",
            "Epoch 10/10\n",
            "1563/1563 - 17s - loss: 0.8714 - sparse_categorical_accuracy: 0.7015 - val_loss: 1.1699 - val_sparse_categorical_accuracy: 0.6168 - 17s/epoch - 11ms/step\n"
          ]
        }
      ]
    },
    {
      "cell_type": "code",
      "source": [
        "import matplotlib.pyplot as plt"
      ],
      "metadata": {
        "id": "f-pBOdCCnetd"
      },
      "execution_count": 13,
      "outputs": []
    },
    {
      "cell_type": "code",
      "source": [
        "plt.plot(model1.history['loss'])\n",
        "plt.plot(model1.history['val_loss'])"
      ],
      "metadata": {
        "colab": {
          "base_uri": "https://localhost:8080/",
          "height": 282
        },
        "id": "MP9AMz1KnjrM",
        "outputId": "1bebaf9b-746b-4cab-e01e-9a539de82f87"
      },
      "execution_count": 24,
      "outputs": [
        {
          "output_type": "execute_result",
          "data": {
            "text/plain": [
              "[<matplotlib.lines.Line2D at 0x7f140dbae790>]"
            ]
          },
          "metadata": {},
          "execution_count": 24
        },
        {
          "output_type": "display_data",
          "data": {
            "image/png": "[encoded data removed]",
            "text/plain": [
              "<Figure size 432x288 with 1 Axes>"
            ]
          },
          "metadata": {
            "needs_background": "light"
          }
        }
      ]
    },
    {
      "cell_type": "code",
      "source": [
        "plt.plot(model1.history['sparse_categorical_accuracy'])\n",
        "plt.plot(model1.history['val_sparse_categorical_accuracy'])"
      ],
      "metadata": {
        "id": "1mRfL05qq5w9"
      },
      "execution_count": null,
      "outputs": []
    },
    {
      "cell_type": "code",
      "source": [
        "x_train=x_train.astype('float')\n",
        "x_test=x_test.astype('float')"
      ],
      "metadata": {
        "id": "_2ssh7UHmf6R"
      },
      "execution_count": 25,
      "outputs": []
    },
    {
      "cell_type": "code",
      "source": [
        "x_train=x_train/255\n",
        "x_test=x_test/255"
      ],
      "metadata": {
        "id": "ETlCerrrrLLt"
      },
      "execution_count": 26,
      "outputs": []
    },
    {
      "cell_type": "code",
      "source": [
        "model.fit(x=x_train,y=y_train,batch_size=32,epochs=10,verbose=2,validation_data=(x_test,y_test)  )"
      ],
      "metadata": {
        "colab": {
          "base_uri": "https://localhost:8080/"
        },
        "id": "cnJ71hmFnMMz",
        "outputId": "0b8b76ed-bd0a-48e7-931d-472d24dab8ff"
      },
      "execution_count": 27,
      "outputs": [
        {
          "output_type": "stream",
          "name": "stdout",
          "text": [
            "Epoch 1/10\n",
            "1563/1563 - 17s - loss: 0.8639 - sparse_categorical_accuracy: 0.7088 - val_loss: 1.1145 - val_sparse_categorical_accuracy: 0.6374 - 17s/epoch - 11ms/step\n",
            "Epoch 2/10\n",
            "1563/1563 - 16s - loss: 0.7335 - sparse_categorical_accuracy: 0.7485 - val_loss: 1.1432 - val_sparse_categorical_accuracy: 0.6244 - 16s/epoch - 10ms/step\n",
            "Epoch 3/10\n",
            "1563/1563 - 16s - loss: 0.6741 - sparse_categorical_accuracy: 0.7726 - val_loss: 1.1405 - val_sparse_categorical_accuracy: 0.6390 - 16s/epoch - 11ms/step\n",
            "Epoch 4/10\n",
            "1563/1563 - 17s - loss: 0.6270 - sparse_categorical_accuracy: 0.7853 - val_loss: 1.2221 - val_sparse_categorical_accuracy: 0.6330 - 17s/epoch - 11ms/step\n",
            "Epoch 5/10\n",
            "1563/1563 - 17s - loss: 0.5798 - sparse_categorical_accuracy: 0.8042 - val_loss: 1.2272 - val_sparse_categorical_accuracy: 0.6291 - 17s/epoch - 11ms/step\n",
            "Epoch 6/10\n",
            "1563/1563 - 16s - loss: 0.5276 - sparse_categorical_accuracy: 0.8219 - val_loss: 1.2482 - val_sparse_categorical_accuracy: 0.6245 - 16s/epoch - 11ms/step\n",
            "Epoch 7/10\n",
            "1563/1563 - 17s - loss: 0.4892 - sparse_categorical_accuracy: 0.8348 - val_loss: 1.2935 - val_sparse_categorical_accuracy: 0.6294 - 17s/epoch - 11ms/step\n",
            "Epoch 8/10\n",
            "1563/1563 - 17s - loss: 0.4522 - sparse_categorical_accuracy: 0.8472 - val_loss: 1.3624 - val_sparse_categorical_accuracy: 0.6286 - 17s/epoch - 11ms/step\n",
            "Epoch 9/10\n",
            "1563/1563 - 17s - loss: 0.4125 - sparse_categorical_accuracy: 0.8615 - val_loss: 1.4522 - val_sparse_categorical_accuracy: 0.6285 - 17s/epoch - 11ms/step\n",
            "Epoch 10/10\n",
            "1563/1563 - 17s - loss: 0.3855 - sparse_categorical_accuracy: 0.8713 - val_loss: 1.5064 - val_sparse_categorical_accuracy: 0.6232 - 17s/epoch - 11ms/step\n"
          ]
        },
        {
          "output_type": "execute_result",
          "data": {
            "text/plain": [
              "<keras.callbacks.History at 0x7f14d0225290>"
            ]
          },
          "metadata": {},
          "execution_count": 27
        }
      ]
    },
    {
      "cell_type": "code",
      "source": [
        "plt.plot(model1.history['sparse_categorical_accuracy'])\n",
        "plt.plot(model1.history['val_sparse_categorical_accuracy'])"
      ],
      "metadata": {
        "colab": {
          "base_uri": "https://localhost:8080/",
          "height": 282
        },
        "id": "jog3-nCerTYW",
        "outputId": "8381b2a1-9e64-4070-b0c0-d737fd0e89f9"
      },
      "execution_count": 28,
      "outputs": [
        {
          "output_type": "execute_result",
          "data": {
            "text/plain": [
              "[<matplotlib.lines.Line2D at 0x7f14d0390790>]"
            ]
          },
          "metadata": {},
          "execution_count": 28
        },
        {
          "output_type": "display_data",
          "data": {
            "image/png": "[encoded data removed]",
            "text/plain": [
              "<Figure size 432x288 with 1 Axes>"
            ]
          },
          "metadata": {
            "needs_background": "light"
          }
        }
      ]
    },
    {
      "cell_type": "code",
      "source": [
        "plt.plot(model1.history['loss'])\n",
        "plt.plot(model1.history['val_loss'])"
      ],
      "metadata": {
        "colab": {
          "base_uri": "https://localhost:8080/",
          "height": 282
        },
        "id": "BVEIMipcuHBK",
        "outputId": "940ea7c0-0097-4cff-d7e7-8c4f46d90a37"
      },
      "execution_count": 29,
      "outputs": [
        {
          "output_type": "execute_result",
          "data": {
            "text/plain": [
              "[<matplotlib.lines.Line2D at 0x7f14d02c3810>]"
            ]
          },
          "metadata": {},
          "execution_count": 29
        },
        {
          "output_type": "display_data",
          "data": {
            "image/png": "[encoded data removed]",
            "text/plain": [
              "<Figure size 432x288 with 1 Axes>"
            ]
          },
          "metadata": {
            "needs_background": "light"
          }
        }
      ]
    },
    {
      "cell_type": "code",
      "source": [
        "plt.imshow(x_train[1011])"
      ],
      "metadata": {
        "colab": {
          "base_uri": "https://localhost:8080/",
          "height": 283
        },
        "id": "qfmPR8NiuZic",
        "outputId": "b2682035-0226-4eeb-c758-7c7b5250bc3b"
      },
      "execution_count": 40,
      "outputs": [
        {
          "output_type": "execute_result",
          "data": {
            "text/plain": [
              "<matplotlib.image.AxesImage at 0x7f1431644c50>"
            ]
          },
          "metadata": {},
          "execution_count": 40
        },
        {
          "output_type": "display_data",
          "data": {
            "image/png": "[encoded data removed]",
            "text/plain": [
              "<Figure size 432x288 with 1 Axes>"
            ]
          },
          "metadata": {
            "needs_background": "light"
          }
        }
      ]
    },
    {
      "cell_type": "code",
      "source": [
        "y_train[0]"
      ],
      "metadata": {
        "colab": {
          "base_uri": "https://localhost:8080/"
        },
        "id": "tEQnln2zueDH",
        "outputId": "e8bee5a8-4db2-4ec0-f672-5b9d3ff74e16"
      },
      "execution_count": 32,
      "outputs": [
        {
          "output_type": "execute_result",
          "data": {
            "text/plain": [
              "array([6], dtype=uint8)"
            ]
          },
          "metadata": {},
          "execution_count": 32
        }
      ]
    },
    {
      "cell_type": "code",
      "source": [
        "class_names=['airplane','automobile','bird','cat','deer','dog','frog','horse','ship','truck']"
      ],
      "metadata": {
        "id": "TMuMJ5owuh-Z"
      },
      "execution_count": 33,
      "outputs": []
    },
    {
      "cell_type": "code",
      "source": [
        "y_train.shape"
      ],
      "metadata": {
        "colab": {
          "base_uri": "https://localhost:8080/"
        },
        "id": "qy8nth5WvI1Q",
        "outputId": "d5ff700e-d9ac-421d-d2df-f1c6e45ed4f6"
      },
      "execution_count": 35,
      "outputs": [
        {
          "output_type": "execute_result",
          "data": {
            "text/plain": [
              "(50000, 1)"
            ]
          },
          "metadata": {},
          "execution_count": 35
        }
      ]
    },
    {
      "cell_type": "code",
      "source": [
        "y_train=y_train.reshape(-1)"
      ],
      "metadata": {
        "id": "ql3wCByAvVKt"
      },
      "execution_count": 36,
      "outputs": []
    },
    {
      "cell_type": "code",
      "source": [
        "class_names[y_train[1011]]"
      ],
      "metadata": {
        "colab": {
          "base_uri": "https://localhost:8080/",
          "height": 35
        },
        "id": "UYG2DRzKvnea",
        "outputId": "4e67b798-cb35-49b2-dc61-7d524ef926b9"
      },
      "execution_count": 41,
      "outputs": [
        {
          "output_type": "execute_result",
          "data": {
            "application/vnd.google.colaboratory.intrinsic+json": {
              "type": "string"
            },
            "text/plain": [
              "'ship'"
            ]
          },
          "metadata": {},
          "execution_count": 41
        }
      ]
    }
  ]
}